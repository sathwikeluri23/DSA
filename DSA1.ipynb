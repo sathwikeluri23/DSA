{
 "cells": [
  {
   "cell_type": "markdown",
   "metadata": {},
   "source": [
    "Pair with given Sum (Two Sum)"
   ]
  },
  {
   "cell_type": "code",
   "execution_count": 2,
   "metadata": {},
   "outputs": [
    {
     "name": "stdout",
     "output_type": "stream",
     "text": [
      "true\n"
     ]
    }
   ],
   "source": [
    "\n",
    "def two_sum(arr, target):\n",
    "    n = len(arr)\n",
    "    for i in range(n):\n",
    "        for j in range(i + 1, n):\n",
    "            if arr[i] + arr[j] == target:\n",
    "                return True\n",
    "    return False\n",
    "\n",
    "arr = [0, -1, 2, -3, 1]\n",
    "target = -2\n",
    "\n",
    "if two_sum(arr, target):\n",
    "    print(\"true\")\n",
    "else:\n",
    "    print(\"false\")"
   ]
  }
 ],
 "metadata": {
  "kernelspec": {
   "display_name": "Python 3",
   "language": "python",
   "name": "python3"
  },
  "language_info": {
   "codemirror_mode": {
    "name": "ipython",
    "version": 3
   },
   "file_extension": ".py",
   "mimetype": "text/x-python",
   "name": "python",
   "nbconvert_exporter": "python",
   "pygments_lexer": "ipython3",
   "version": "3.13.0"
  }
 },
 "nbformat": 4,
 "nbformat_minor": 2
}
